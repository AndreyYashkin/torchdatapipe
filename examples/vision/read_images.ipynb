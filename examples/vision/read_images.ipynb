{
 "cells": [
  {
   "cell_type": "code",
   "execution_count": null,
   "id": "0",
   "metadata": {},
   "outputs": [],
   "source": [
    "%matplotlib inline"
   ]
  },
  {
   "cell_type": "code",
   "execution_count": null,
   "id": "1",
   "metadata": {},
   "outputs": [],
   "source": [
    "import numpy as np\n",
    "from matplotlib import pyplot as plt\n",
    "from torchdatapipe.collections.vision.pipelines import ImageSceneInference, CachedImageSceneInference"
   ]
  },
  {
   "cell_type": "code",
   "execution_count": null,
   "id": "2",
   "metadata": {},
   "outputs": [],
   "source": [
    "data_prefix = \"/\"\n",
    "data = \"/home/andrey/Изображения/1\"\n",
    "cache_dir = \"/tmp/cache_tst\"\n",
    "imgsz = [640, 640]\n",
    "rng = np.random.default_rng()\n",
    "\n",
    "cls = ImageSceneInference\n",
    "# cls = CachedImageSceneInference"
   ]
  },
  {
   "cell_type": "code",
   "execution_count": null,
   "id": "3",
   "metadata": {},
   "outputs": [],
   "source": [
    "pipeline = cls(data)\n",
    "pipeline.setup(data_prefix, cache_dir=cache_dir, imgsz=imgsz)"
   ]
  },
  {
   "cell_type": "code",
   "execution_count": null,
   "id": "4",
   "metadata": {},
   "outputs": [],
   "source": [
    "dataset = pipeline.dataset\n",
    "sampler = pipeline.get_sampler(shuffle=True)\n",
    "sampler.set_rng(rng)"
   ]
  },
  {
   "cell_type": "code",
   "execution_count": null,
   "id": "5",
   "metadata": {},
   "outputs": [],
   "source": [
    "index = list(iter(sampler))[0]\n",
    "image = dataset[index].visualize()\n",
    "plt.imshow(image[..., ::-1])"
   ]
  },
  {
   "cell_type": "code",
   "execution_count": null,
   "id": "6",
   "metadata": {},
   "outputs": [],
   "source": []
  }
 ],
 "metadata": {
  "kernelspec": {
   "display_name": "Python 3 (ipykernel)",
   "language": "python",
   "name": "python3"
  },
  "language_info": {
   "codemirror_mode": {
    "name": "ipython",
    "version": 3
   },
   "file_extension": ".py",
   "mimetype": "text/x-python",
   "name": "python",
   "nbconvert_exporter": "python",
   "pygments_lexer": "ipython3",
   "version": "3.12.3"
  }
 },
 "nbformat": 4,
 "nbformat_minor": 5
}
